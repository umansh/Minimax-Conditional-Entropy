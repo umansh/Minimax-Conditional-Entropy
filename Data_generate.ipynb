{
 "cells": [
  {
   "cell_type": "code",
   "execution_count": 15,
   "id": "4f3ee420",
   "metadata": {},
   "outputs": [],
   "source": [
    "import pandas as pd\n",
    "from sdv.tabular import GaussianCopula\n",
    "import warnings\n",
    "warnings.filterwarnings(\"ignore\")\n",
    "import os"
   ]
  },
  {
   "cell_type": "code",
   "execution_count": 16,
   "id": "fde5d5d9",
   "metadata": {},
   "outputs": [],
   "source": [
    "datasets = [['Young', 'No', 'No', 'Moderate', 'No'],\n",
    "            ['Young', 'No', 'No', 'Good', 'No'],\n",
    "            ['Young', 'Yes', 'No', 'Good', 'Yes'],\n",
    "            ['Young', 'Yes', 'Yes', 'Moderate', 'Yes'],\n",
    "            ['Young', 'No', 'No', 'Moderate', 'No'],\n",
    "            ['Middle', 'No', 'No', 'Moderate', 'No'],\n",
    "            ['Middle', 'No', 'No', 'Good', 'No'],\n",
    "            ['Middle', 'Yes', 'Yes', 'Good', 'Yes'],\n",
    "            ['Middle', 'No', 'Yes', 'Excellent', 'Yes'],\n",
    "            ['Old', 'No', 'Yes', 'Excellent', 'Yes'],\n",
    "            ['Old', 'No', 'Yes', 'Excellent', 'Yes'],\n",
    "            ['Old', 'No', 'Yes', 'Good', 'Yes'],\n",
    "            ['Old', 'Yes', 'No', 'Good', 'Yes'],\n",
    "            ['Old', 'Yes', 'No', 'Excellent', 'Yes'],\n",
    "            ['Old', 'No', 'No', 'Moderate', 'No'],\n",
    "            ]\n",
    "\n",
    "datasets = pd.DataFrame(datasets,columns=['Age','Work','Own_Apartment','Credit_History','response'])"
   ]
  },
  {
   "cell_type": "code",
   "execution_count": 18,
   "id": "148b9eda",
   "metadata": {},
   "outputs": [
    {
     "name": "stdout",
     "output_type": "stream",
     "text": [
      "        Age Work Own_Apartment Credit_History response\n",
      "0       Old  Yes            No           Good      Yes\n",
      "1     Young   No            No       Moderate       No\n",
      "2    Middle  Yes            No       Moderate       No\n",
      "3     Young   No            No      Excellent       No\n",
      "4     Young  Yes           Yes           Good      Yes\n",
      "..      ...  ...           ...            ...      ...\n",
      "495   Young  Yes            No           Good      Yes\n",
      "496     Old  Yes           Yes      Excellent      Yes\n",
      "497  Middle   No           Yes           Good       No\n",
      "498   Young  Yes            No           Good      Yes\n",
      "499  Middle   No           Yes      Excellent      Yes\n",
      "\n",
      "[500 rows x 5 columns]\n"
     ]
    }
   ],
   "source": [
    "model = GaussianCopula()\n",
    "\n",
    "model1=model.fit(datasets)\n",
    "data1 = model.sample(500)\n",
    "print(data1)\n",
    "save  = data1.to_csv('./Desktop/pythonProject/data.csv')\n"
   ]
  },
  {
   "cell_type": "code",
   "execution_count": 19,
   "id": "aa99d607",
   "metadata": {},
   "outputs": [
    {
     "name": "stdout",
     "output_type": "stream",
     "text": [
      "       Age Work Own_Apartment Credit_History response\n",
      "0      Old  Yes           Yes           Good      Yes\n",
      "1      Old   No           Yes       Moderate      Yes\n",
      "2    Young  Yes            No           Good      Yes\n",
      "3      Old  Yes            No           Good      Yes\n",
      "4    Young  Yes            No      Excellent      Yes\n",
      "5      Old   No           Yes       Moderate      Yes\n",
      "6   Middle   No            No       Moderate       No\n",
      "7      Old  Yes           Yes           Good      Yes\n",
      "8      Old   No           Yes      Excellent      Yes\n",
      "9    Young   No            No           Good      Yes\n",
      "10     Old  Yes            No           Good       No\n",
      "11     Old   No            No           Good      Yes\n",
      "12   Young   No            No       Moderate       No\n",
      "13     Old  Yes           Yes           Good      Yes\n",
      "14     Old   No            No      Excellent      Yes\n"
     ]
    }
   ],
   "source": [
    "model2=model.fit(datasets)\n",
    "data2 = model.sample(15)\n",
    "print(data2)\n",
    "save2  = data2.to_csv('./Desktop/pythonProject/test1.csv')"
   ]
  },
  {
   "cell_type": "code",
   "execution_count": null,
   "id": "3c570352",
   "metadata": {},
   "outputs": [],
   "source": []
  }
 ],
 "metadata": {
  "kernelspec": {
   "display_name": "Python 3 (ipykernel)",
   "language": "python",
   "name": "python3"
  },
  "language_info": {
   "codemirror_mode": {
    "name": "ipython",
    "version": 3
   },
   "file_extension": ".py",
   "mimetype": "text/x-python",
   "name": "python",
   "nbconvert_exporter": "python",
   "pygments_lexer": "ipython3",
   "version": "3.9.10"
  }
 },
 "nbformat": 4,
 "nbformat_minor": 5
}
